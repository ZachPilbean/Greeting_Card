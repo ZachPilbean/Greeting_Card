{
 "cells": [
  {
   "cell_type": "code",
   "execution_count": 6,
   "id": "cf32c81f",
   "metadata": {},
   "outputs": [
    {
     "name": "stdout",
     "output_type": "stream",
     "text": [
      "Requirement already satisfied: pygame in c:\\users\\toddp\\anaconda3\\lib\\site-packages (2.1.2)\n"
     ]
    }
   ],
   "source": [
    "\n",
    "!pip install pygame\n",
    "import pygame \n",
    "pygame.init()\n",
    "\n",
    "pygame.display.set_caption(\"Greeting Card\")\n",
    "\n",
    "WHITE=(255,255,255)\n",
    "RED=(255,0,0)\n",
    "GREEN=(0,255,0)\n",
    "\n",
    "\n",
    "surface=pygame.display.set_mode((500,500))\n",
    "\n",
    "surface.fill(RED)\n",
    "\n",
    "font=pygame.font.Font(\"freesansbold.ttf\", 50)\n",
    "text=font.render(\"Merry Christmas\", True, WHITE)\n",
    "textRect=text.get_rect()\n",
    "X=500\n",
    "y=350\n",
    "textRect.center=(X/2, y/2)\n",
    "\n",
    "\n",
    "im=pygame.image.load(\"Christmas tree.webp\").convert()\n",
    "\n",
    "resized_image=pygame.transform.scale(im, (150,250))\n",
    "\n",
    "x=170\n",
    "y=250 \n",
    "\n",
    "surface.blit(resized_image, (x,y))\n",
    "\n",
    "pygame.display.flip()\n",
    "active=True\n",
    "while active:\n",
    "    surface.blit(text,textRect)\n",
    "    for event in pygame.event.get():\n",
    "        if event.type==pygame.QUIT:\n",
    "            active=False\n",
    "    pygame.display.update()\n",
    "pygame.quit()"
   ]
  },
  {
   "cell_type": "code",
   "execution_count": null,
   "id": "494f7d3e",
   "metadata": {},
   "outputs": [],
   "source": []
  }
 ],
 "metadata": {
  "kernelspec": {
   "display_name": "Python 3 (ipykernel)",
   "language": "python",
   "name": "python3"
  },
  "language_info": {
   "codemirror_mode": {
    "name": "ipython",
    "version": 3
   },
   "file_extension": ".py",
   "mimetype": "text/x-python",
   "name": "python",
   "nbconvert_exporter": "python",
   "pygments_lexer": "ipython3",
   "version": "3.9.12"
  }
 },
 "nbformat": 4,
 "nbformat_minor": 5
}
